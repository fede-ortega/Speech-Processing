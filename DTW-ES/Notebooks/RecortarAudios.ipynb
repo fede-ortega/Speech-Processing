{
  "cells": [
    {
      "cell_type": "markdown",
      "metadata": {
        "id": "k9ZRgMx2Q71S"
      },
      "source": [
        "# 2024: Recortar grabaciones de audio\n"
      ]
    },
    {
      "cell_type": "markdown",
      "source": [
        "El reconocimiento de habla usando DTW puede tener resultados bajos si la duración de las grabaciones contiene mucho silencio al principio y al final de cada palabra.  Aunque el recorte de las grabaciones no siempre es sencillo, pues hay que calibrar la intensidad sonora del silencio o el ruido de fondo, proponemos que se recorten los ficheros grabados antes de utilizarlos en el programa DTW.\n",
        "Para ello, usaremos la rutina \"eliminar silencio\" del paquete pydub"
      ],
      "metadata": {
        "id": "tYo5RU9c_8no"
      }
    },
    {
      "cell_type": "code",
      "source": [
        "from google.colab import drive\n",
        "\n",
        "# Montar Google Drive\n",
        "drive.mount('/content/drive')\n",
        "import zipfile\n",
        "import os\n"
      ],
      "metadata": {
        "id": "5oR3IeAMGWk9",
        "colab": {
          "base_uri": "https://localhost:8080/"
        },
        "outputId": "e5c50033-5f5f-482e-f459-c846ca615ce6"
      },
      "execution_count": 1,
      "outputs": [
        {
          "output_type": "stream",
          "name": "stdout",
          "text": [
            "Mounted at /content/drive\n"
          ]
        }
      ]
    },
    {
      "cell_type": "code",
      "source": [
        "!pip install pydub\n",
        "from pydub import AudioSegment"
      ],
      "metadata": {
        "id": "g7u2FK6AaMvF",
        "colab": {
          "base_uri": "https://localhost:8080/"
        },
        "outputId": "5a851f64-50a3-4648-d3b3-bd808d4ae3c6"
      },
      "execution_count": 2,
      "outputs": [
        {
          "output_type": "stream",
          "name": "stdout",
          "text": [
            "Collecting pydub\n",
            "  Downloading pydub-0.25.1-py2.py3-none-any.whl (32 kB)\n",
            "Installing collected packages: pydub\n",
            "Successfully installed pydub-0.25.1\n"
          ]
        }
      ]
    },
    {
      "cell_type": "code",
      "source": [
        "\n",
        "# Obtener el directorio de trabajo actual\n",
        "\n",
        "directorio_actual = os.getcwd()\n",
        "\n",
        "# Imprimir el directorio actual\n",
        "\n",
        "print(\"Directorio actual:\", directorio_actual)\n",
        "\n",
        "directorio = '/content/drive/MyDrive/Procesamiento del habla/Práctica 2 - DTW/' #cambiar el nombre del directorio al directorio personal\n",
        "\n",
        "print(\"Directorio actual:\", directorio)\n",
        "# Listar archivos en el directorio\n",
        "archivos = os.listdir(directorio)\n",
        "\n",
        "# Imprimir la lista de archivos\n",
        "print (\"Archivos:\")\n",
        "for archivo in archivos:\n",
        "    print(archivo)\n",
        "\n"
      ],
      "metadata": {
        "id": "56UW_Y0wwnB1",
        "colab": {
          "base_uri": "https://localhost:8080/"
        },
        "outputId": "9ca53a58-4fda-40ac-bd95-8c8e62a4ef25"
      },
      "execution_count": 3,
      "outputs": [
        {
          "output_type": "stream",
          "name": "stdout",
          "text": [
            "Directorio actual: /content\n",
            "Directorio actual: /content/drive/MyDrive/Procesamiento del habla/Práctica 2 - DTW/\n",
            "Archivos:\n",
            "practica_1.zip\n",
            "practica_2.zip\n",
            "2024-DTW- grafico.ipynb\n",
            "2024-DTW-segunda parte_v2.ipynb\n",
            "2024-recortar grabacion de audio.ipynb\n"
          ]
        }
      ]
    },
    {
      "cell_type": "code",
      "source": [
        "#Lo primero sería descomprimir y subir las grabaciones actuales, al igual que lo hemos hecho hasta ahora\n",
        "!unzip '/content/drive/MyDrive/Procesamiento del habla/Práctica 2 - DTW/practica_2.zip'  # poner aqui el fichero .zip donde tengamos nuestros audios originales"
      ],
      "metadata": {
        "id": "IlTHoohaC6hD",
        "colab": {
          "base_uri": "https://localhost:8080/"
        },
        "outputId": "6157c9e1-0d35-42f6-979b-b441d453616e"
      },
      "execution_count": 4,
      "outputs": [
        {
          "output_type": "stream",
          "name": "stdout",
          "text": [
            "Archive:  /content/drive/MyDrive/Procesamiento del habla/Práctica 2 - DTW/practica_2.zip\n",
            "   creating: bata/\n",
            "  inflating: bata/bata_for_1.wav     \n",
            "  inflating: __MACOSX/bata/._bata_for_1.wav  \n",
            "  inflating: bata/bata_for_2.wav     \n",
            "  inflating: __MACOSX/bata/._bata_for_2.wav  \n",
            "   creating: caca/\n",
            "  inflating: caca/caca_for_1.wav     \n",
            "  inflating: __MACOSX/caca/._caca_for_1.wav  \n",
            "  inflating: caca/caca_for_2.wav     \n",
            "  inflating: __MACOSX/caca/._caca_for_2.wav  \n",
            "   creating: cara/\n",
            "  inflating: cara/cara_for_2.wav     \n",
            "  inflating: __MACOSX/cara/._cara_for_2.wav  \n",
            "  inflating: cara/cara_for_1.wav     \n",
            "  inflating: __MACOSX/cara/._cara_for_1.wav  \n",
            "   creating: cata/\n",
            "  inflating: cata/cata_for_1.wav     \n",
            "  inflating: __MACOSX/cata/._cata_for_1.wav  \n",
            "  inflating: cata/cata_for_2.wav     \n",
            "  inflating: __MACOSX/cata/._cata_for_2.wav  \n",
            "   creating: paca/\n",
            "  inflating: paca/paca_for_1.wav     \n",
            "  inflating: __MACOSX/paca/._paca_for_1.wav  \n",
            "  inflating: paca/paca_for_2.wav     \n",
            "  inflating: __MACOSX/paca/._paca_for_2.wav  \n",
            "   creating: para/\n",
            "  inflating: para/para_for_2.wav     \n",
            "  inflating: __MACOSX/para/._para_for_2.wav  \n",
            "  inflating: para/para_for_1.wav     \n",
            "  inflating: __MACOSX/para/._para_for_1.wav  \n",
            "   creating: pata/\n",
            "  inflating: pata/pata_for_1.wav     \n",
            "  inflating: __MACOSX/pata/._pata_for_1.wav  \n",
            "  inflating: pata/pata_for_2.wav     \n",
            "  inflating: __MACOSX/pata/._pata_for_2.wav  \n",
            "   creating: vaca/\n",
            "  inflating: vaca/vaca_for_1.wav     \n",
            "  inflating: __MACOSX/vaca/._vaca_for_1.wav  \n",
            "  inflating: vaca/vaca_for_2.wav     \n",
            "  inflating: __MACOSX/vaca/._vaca_for_2.wav  \n",
            "   creating: vara/\n",
            "  inflating: vara/vara_for_2.wav     \n",
            "  inflating: __MACOSX/vara/._vara_for_2.wav  \n",
            "  inflating: vara/vara_for_1.wav     \n",
            "  inflating: __MACOSX/vara/._vara_for_1.wav  \n"
          ]
        }
      ]
    },
    {
      "cell_type": "code",
      "execution_count": 5,
      "metadata": {
        "id": "IO_C4bA6Q71Z"
      },
      "outputs": [],
      "source": [
        "\n",
        "labels = [\"bata\",\"caca\",\"cara\",\"cata\",\"paca\",\"para\",\"pata\",\"vaca\",\"vara\"]  # lista ordenada indexable\n"
      ]
    },
    {
      "cell_type": "code",
      "source": [
        "def eliminar_silencio(ruta_entrada, ruta_salida, umbral=-50):  # el valor de -35 (dB) hay que ajustarlo a nuestras condiciones de ruido de fondo\n",
        "# ruta entrada marca el path del fichero a recortar, ruta_salida marca el path del fichero recortado\n",
        "    # Cargar el archivo de audio\n",
        "    audio = AudioSegment.from_wav(ruta_entrada)\n",
        "\n",
        "    # Detectar segmentos de voz\n",
        "    segmentos_voz = []\n",
        "\n",
        "    # Buscar segmentos de voz basados en el umbral de volumen\n",
        "    for i, chunk in enumerate(audio[::10]):\n",
        "        if chunk.dBFS > umbral:\n",
        "            segmentos_voz.append(chunk)\n",
        "\n",
        "    # Concatenar los segmentos de voz en un solo archivo de audio\n",
        "    audio_procesado = segmentos_voz[0]\n",
        "    for segmento in segmentos_voz[1:]:\n",
        "        audio_procesado += segmento\n",
        "\n",
        "    # Guardar el archivo de audio procesado\n",
        "    audio_procesado.export(ruta_salida, format=\"wav\")\n",
        "\n",
        "# primero creamos  los directorios de salida\n",
        "\n",
        "# Ruta base donde se crearán los directorios\n",
        "ruta_base = \"/content/drive/MyDrive/Procesamiento del habla/Práctica 2 - DTW/\" # directorio a partir del cual se crean los nuevos\n",
        "\n",
        "# Lista de nombres de directorios a crear\n",
        "directorios = [\"dir1\", \"dir2\", \"dir3\"]\n",
        "\n",
        "# Iterar sobre la lista de nombres de directorios y crear cada uno\n",
        "for directorio in labels:\n",
        "    ruta_directorio = os.path.join(ruta_base, directorio)  # Obtener la ruta completa del directorio\n",
        "    os.makedirs(ruta_directorio, exist_ok=True)  # Crear el directorio si no existe\n",
        "\n",
        "print(\"Directorios creados exitosamente.\")\n",
        "\n",
        "# a partir de aqui, recortamos los ficheros uno por uno y los escribimos en los directorios en google drive creados\n",
        "for valor in labels :\n",
        "  print (valor)\n",
        "  for n in range(2):  # si tenemos mas de dos ficheros por cada palabra, aqui debemos poner este número, en nuestro caso es 2\n",
        "    print (\"número de fichero\",n)\n",
        "\n",
        "    eliminar_silencio(\"/content/\"+valor+\"/\"+valor+\"_for_\"+str(n+1)+\".wav\", \"/content/drive/MyDrive/Procesamiento del habla/Práctica 2 - DTW/\"+valor+\"/\"+valor+\"_for_\"+str(n+1)+\".wav\")\n"
      ],
      "metadata": {
        "id": "5kdg_OKqYC-A",
        "colab": {
          "base_uri": "https://localhost:8080/"
        },
        "outputId": "42023ec8-e4ec-446f-86c6-99559c398a1c"
      },
      "execution_count": 6,
      "outputs": [
        {
          "output_type": "stream",
          "name": "stdout",
          "text": [
            "Directorios creados exitosamente.\n",
            "bata\n",
            "número de fichero 0\n",
            "número de fichero 1\n",
            "caca\n",
            "número de fichero 0\n",
            "número de fichero 1\n",
            "cara\n",
            "número de fichero 0\n",
            "número de fichero 1\n",
            "cata\n",
            "número de fichero 0\n",
            "número de fichero 1\n",
            "paca\n",
            "número de fichero 0\n",
            "número de fichero 1\n",
            "para\n",
            "número de fichero 0\n",
            "número de fichero 1\n",
            "pata\n",
            "número de fichero 0\n",
            "número de fichero 1\n",
            "vaca\n",
            "número de fichero 0\n",
            "número de fichero 1\n",
            "vara\n",
            "número de fichero 0\n",
            "número de fichero 1\n"
          ]
        }
      ]
    },
    {
      "cell_type": "markdown",
      "source": [
        "Descargar manualmente los ficheros desde drive a tu ordenador personal, crear un archivo comprimido .zip y subirlo al drive para el proceso posterior"
      ],
      "metadata": {
        "id": "AL_iVyCJb_B4"
      }
    }
  ],
  "metadata": {
    "kernelspec": {
      "display_name": "Python 3",
      "name": "python3"
    },
    "language_info": {
      "codemirror_mode": {
        "name": "ipython",
        "version": 3
      },
      "file_extension": ".py",
      "mimetype": "text/x-python",
      "name": "python",
      "nbconvert_exporter": "python",
      "pygments_lexer": "ipython3",
      "version": "3.6.5"
    },
    "colab": {
      "provenance": []
    }
  },
  "nbformat": 4,
  "nbformat_minor": 0
}